{
 "cells": [
  {
   "cell_type": "markdown",
   "metadata": {},
   "source": [
    "# Recreate the database tables"
   ]
  },
  {
   "cell_type": "code",
   "execution_count": null,
   "metadata": {},
   "outputs": [],
   "source": [
    "\n",
    "from extract_info import Extractor\n",
    "\n",
    "ext = Extractor()\n",
    "ext.uc.create_users_table()\n",
    "ext.mc.create_messages_table()\n",
    "ext.cc.create_proposed_ceremonies_table()"
   ]
  },
  {
   "cell_type": "markdown",
   "metadata": {},
   "source": [
    "# Numbers of rows in our DB."
   ]
  },
  {
   "cell_type": "code",
   "execution_count": 6,
   "metadata": {},
   "outputs": [
    {
     "name": "stdout",
     "output_type": "stream",
     "text": [
      "n-Users: 5 n-Msgs: 5 n-Ceremonies: 3\n"
     ]
    }
   ],
   "source": [
    "\n",
    "from extract_info import Extractor\n",
    "\n",
    "ext = Extractor()\n",
    "print(f\"n-Users: {len(ext.uc.get_all_users())} n-Msgs: {len(ext.mc.get_all_messages())} n-Ceremonies: {len(ext.cc.get_all_proposed_ceremonies())}\") \n"
   ]
  },
  {
   "cell_type": "code",
   "execution_count": null,
   "metadata": {},
   "outputs": [],
   "source": [
    "from extract_info import Extractor\n",
    "\n",
    "ext = Extractor()"
   ]
  }
 ],
 "metadata": {
  "kernelspec": {
   "display_name": "Python 3.10.6 ('venv': venv)",
   "language": "python",
   "name": "python3"
  },
  "language_info": {
   "codemirror_mode": {
    "name": "ipython",
    "version": 3
   },
   "file_extension": ".py",
   "mimetype": "text/x-python",
   "name": "python",
   "nbconvert_exporter": "python",
   "pygments_lexer": "ipython3",
   "version": "3.10.6"
  },
  "orig_nbformat": 4,
  "vscode": {
   "interpreter": {
    "hash": "7ab5601cc06eb2ef5d2c0e1c33531890adf8a247fdebcc827f281b546e784bc3"
   }
  }
 },
 "nbformat": 4,
 "nbformat_minor": 2
}
